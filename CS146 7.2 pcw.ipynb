{
 "cells": [
  {
   "cell_type": "markdown",
   "metadata": {},
   "source": [
    "# Modeling elections"
   ]
  },
  {
   "cell_type": "code",
   "execution_count": 1,
   "metadata": {},
   "outputs": [],
   "source": [
    "import numpy as np\n",
    "import scipy.stats as sts\n",
    "import matplotlib.pyplot as plt\n",
    "import pystan"
   ]
  },
  {
   "cell_type": "markdown",
   "metadata": {},
   "source": [
    "## Data\n",
    "\n",
    "The `electoral_votes` variable is a dictionary containing the number of Electoral College votes for each state. For example\n",
    "```\n",
    "  >>> electoral_votes['Indiana']\n",
    "  11\n",
    "```\n",
    "Data from [Wikipedia: United_States_Electoral_College](https://en.wikipedia.org/wiki/United_States_Electoral_College)\n",
    "\n",
    "The `survey_results` variable is a dictionary mapping from states to an array of survey results for each candidate. Each row in a survey results array represents one survey and each column represents one candidate. There are 3 columns, representing Trump (Republican), Biden (Democrat), and Other in that order. In the example below, Trump got 340 votes in the first survey, Biden got 258, and Other got 40.\n",
    "```\n",
    "  >>> survey_results['Indiana']\n",
    "  array([[340, 258,  40],\n",
    "         [240, 155,  10],\n",
    "         [235, 155,  70],\n",
    "         [308, 266,  84],\n",
    "         [222, 161, 110]])\n",
    "```\n",
    "Data from [Wikipedia: Statewide opinion polling for the 2020 United States presidential election](https://en.wikipedia.org/wiki/Statewide_opinion_polling_for_the_2020_United_States_presidential_election)\n"
   ]
  },
  {
   "cell_type": "code",
   "execution_count": 2,
   "metadata": {},
   "outputs": [
    {
     "name": "stdout",
     "output_type": "stream",
     "text": [
      "Modeling 5 states with 38 electoral college votes\n"
     ]
    }
   ],
   "source": [
    "electoral_votes = {\n",
    "    'Alabama': 9,\n",
    "    'Alaska': 3,\n",
    "    'Arizona': 11,\n",
    "    'Arkansas': 6,\n",
    "    'Colorado': 9,\n",
    "}\n",
    "\n",
    "survey_results = {\n",
    "    'Alabama': np.array([[611, 397, 0, 0], [799, 528, 0, 0], [793, 403, 0, 0], [288, 264, 0, 0], [353, 219, 0, 0], [997, 554, 0, 0], [312, 232, 0, 0], [409, 227, 0, 0], [319, 234, 0, 0]]),\n",
    "    'Alaska': np.array([[348, 320, 0, 0], [298, 253, 0, 0], [283, 277, 0, 0], [269, 198, 0, 0], [227, 177, 0, 0], [442, 389, 0, 0], [519, 486, 0, 0], [325, 318, 0, 0], [84, 74, 0, 0]]),\n",
    "    'Arizona': np.array([[522, 478, 22, 0], [313, 356, 7, 7], [291, 304, 0, 0], [270, 288, 0, 0], [236, 264, 16, 0], [180, 184, 0, 0], [133, 151, 0, 0], [269, 321, 20, 0], [230, 250, 5, 0], [3337, 3621, 0, 0], [360, 392, 0, 0], [235, 235, 0, 0], [364, 396, 8, 0], [383, 409, 9, 9], [221, 216, 0, 0], [113, 128, 0, 0], [284, 278, 0, 0], [168, 212, 0, 0], [258, 270, 0, 0], [260, 266, 0, 0], [359, 402, 9, 0], [185, 202, 17, 0], [261, 320, 26, 0], [519, 584, 0, 0], [328, 342, 0, 0], [487, 520, 0, 0], [252, 312, 0, 0], [752, 768, 0, 0], [414, 441, 0, 0], [212, 230, 0, 0], [357, 398, 0, 8], [309, 378, 23, 0], [3357, 3034, 0, 0], [396, 490, 0, 0], [162, 169, 0, 0], [325, 402, 9, 9], [445, 426, 0, 0], [311, 350, 0, 0], [188, 193, 0, 0], [466, 456, 30, 0], [271, 295, 0, 0], [204, 192, 0, 0], [522, 547, 24, 12], [2547, 2348, 0, 0], [164, 172, 0, 0], [381, 445, 0, 0], [393, 428, 0, 0], [326, 395, 17, 9], [372, 413, 0, 0], [432, 470, 0, 0], [315, 343, 0, 0], [155, 176, 0, 0], [500, 500, 0, 0], [264, 294, 0, 0], [1230, 1088, 0, 0], [270, 282, 0, 0], [137, 159, 0, 0], [258, 237, 0, 0], [337, 372, 17, 9], [266, 312, 0, 0], [616, 670, 0, 0], [88, 90, 0, 0], [421, 461, 0, 0], [148, 145, 0, 0], [368, 353, 0, 0], [180, 188, 0, 0], [388, 426, 0, 0], [258, 300, 0, 0], [230, 235, 0, 0], [258, 312, 0, 0]]),\n",
    "    'Arkansas': np.array([[478, 293, 0, 0], [462, 220, 0, 0], [493, 239, 0, 0], [209, 135, 0, 0], [408, 391, 0, 0]]),\n",
    "    'Colorado': np.array([[408, 510, 0, 0], [1114, 1549, 0, 0], [283, 322, 0, 0], [320, 400, 0, 0], [312, 400, 32, 8], [978, 1359, 0, 0], [262, 325, 0, 0], [252, 306, 0, 0], [246, 307, 0, 0], [246, 306, 0, 0], [240, 312, 0, 0], [935, 1355, 0, 0], [240, 320, 0, 0], [246, 306, 0, 0], [365, 481, 0, 0], [328, 470, 0, 0], [457, 620, 0, 0], [240, 286, 0, 0], [280, 371, 0, 0], [216, 330, 0, 0], [133, 201, 0, 0]]),\n",
    "}\n",
    "\n",
    "for key, value in survey_results.items():\n",
    "    survey_results[key] = np.concatenate((value[:,:2], value[:,2:3] + value[:,3:4]), axis=1)\n",
    "\n",
    "states = sorted(survey_results.keys())\n",
    "print('Modeling', len(states), 'states with', sum(electoral_votes[s] for s in states), 'electoral college votes')"
   ]
  },
  {
   "cell_type": "code",
   "execution_count": 8,
   "metadata": {},
   "outputs": [
    {
     "data": {
      "text/plain": [
       "['Alabama', 'Alaska', 'Arizona', 'Arkansas', 'Colorado']"
      ]
     },
     "execution_count": 8,
     "metadata": {},
     "output_type": "execute_result"
    }
   ],
   "source": [
    "states"
   ]
  },
  {
   "cell_type": "code",
   "execution_count": 9,
   "metadata": {},
   "outputs": [
    {
     "data": {
      "text/plain": [
       "{'Alabama': array([[611, 397,   0],\n",
       "        [799, 528,   0],\n",
       "        [793, 403,   0],\n",
       "        [288, 264,   0],\n",
       "        [353, 219,   0],\n",
       "        [997, 554,   0],\n",
       "        [312, 232,   0],\n",
       "        [409, 227,   0],\n",
       "        [319, 234,   0]]),\n",
       " 'Alaska': array([[348, 320,   0],\n",
       "        [298, 253,   0],\n",
       "        [283, 277,   0],\n",
       "        [269, 198,   0],\n",
       "        [227, 177,   0],\n",
       "        [442, 389,   0],\n",
       "        [519, 486,   0],\n",
       "        [325, 318,   0],\n",
       "        [ 84,  74,   0]]),\n",
       " 'Arizona': array([[ 522,  478,   22],\n",
       "        [ 313,  356,   14],\n",
       "        [ 291,  304,    0],\n",
       "        [ 270,  288,    0],\n",
       "        [ 236,  264,   16],\n",
       "        [ 180,  184,    0],\n",
       "        [ 133,  151,    0],\n",
       "        [ 269,  321,   20],\n",
       "        [ 230,  250,    5],\n",
       "        [3337, 3621,    0],\n",
       "        [ 360,  392,    0],\n",
       "        [ 235,  235,    0],\n",
       "        [ 364,  396,    8],\n",
       "        [ 383,  409,   18],\n",
       "        [ 221,  216,    0],\n",
       "        [ 113,  128,    0],\n",
       "        [ 284,  278,    0],\n",
       "        [ 168,  212,    0],\n",
       "        [ 258,  270,    0],\n",
       "        [ 260,  266,    0],\n",
       "        [ 359,  402,    9],\n",
       "        [ 185,  202,   17],\n",
       "        [ 261,  320,   26],\n",
       "        [ 519,  584,    0],\n",
       "        [ 328,  342,    0],\n",
       "        [ 487,  520,    0],\n",
       "        [ 252,  312,    0],\n",
       "        [ 752,  768,    0],\n",
       "        [ 414,  441,    0],\n",
       "        [ 212,  230,    0],\n",
       "        [ 357,  398,    8],\n",
       "        [ 309,  378,   23],\n",
       "        [3357, 3034,    0],\n",
       "        [ 396,  490,    0],\n",
       "        [ 162,  169,    0],\n",
       "        [ 325,  402,   18],\n",
       "        [ 445,  426,    0],\n",
       "        [ 311,  350,    0],\n",
       "        [ 188,  193,    0],\n",
       "        [ 466,  456,   30],\n",
       "        [ 271,  295,    0],\n",
       "        [ 204,  192,    0],\n",
       "        [ 522,  547,   36],\n",
       "        [2547, 2348,    0],\n",
       "        [ 164,  172,    0],\n",
       "        [ 381,  445,    0],\n",
       "        [ 393,  428,    0],\n",
       "        [ 326,  395,   26],\n",
       "        [ 372,  413,    0],\n",
       "        [ 432,  470,    0],\n",
       "        [ 315,  343,    0],\n",
       "        [ 155,  176,    0],\n",
       "        [ 500,  500,    0],\n",
       "        [ 264,  294,    0],\n",
       "        [1230, 1088,    0],\n",
       "        [ 270,  282,    0],\n",
       "        [ 137,  159,    0],\n",
       "        [ 258,  237,    0],\n",
       "        [ 337,  372,   26],\n",
       "        [ 266,  312,    0],\n",
       "        [ 616,  670,    0],\n",
       "        [  88,   90,    0],\n",
       "        [ 421,  461,    0],\n",
       "        [ 148,  145,    0],\n",
       "        [ 368,  353,    0],\n",
       "        [ 180,  188,    0],\n",
       "        [ 388,  426,    0],\n",
       "        [ 258,  300,    0],\n",
       "        [ 230,  235,    0],\n",
       "        [ 258,  312,    0]]),\n",
       " 'Arkansas': array([[478, 293,   0],\n",
       "        [462, 220,   0],\n",
       "        [493, 239,   0],\n",
       "        [209, 135,   0],\n",
       "        [408, 391,   0]]),\n",
       " 'Colorado': array([[ 408,  510,    0],\n",
       "        [1114, 1549,    0],\n",
       "        [ 283,  322,    0],\n",
       "        [ 320,  400,    0],\n",
       "        [ 312,  400,   40],\n",
       "        [ 978, 1359,    0],\n",
       "        [ 262,  325,    0],\n",
       "        [ 252,  306,    0],\n",
       "        [ 246,  307,    0],\n",
       "        [ 246,  306,    0],\n",
       "        [ 240,  312,    0],\n",
       "        [ 935, 1355,    0],\n",
       "        [ 240,  320,    0],\n",
       "        [ 246,  306,    0],\n",
       "        [ 365,  481,    0],\n",
       "        [ 328,  470,    0],\n",
       "        [ 457,  620,    0],\n",
       "        [ 240,  286,    0],\n",
       "        [ 280,  371,    0],\n",
       "        [ 216,  330,    0],\n",
       "        [ 133,  201,    0]])}"
      ]
     },
     "execution_count": 9,
     "metadata": {},
     "output_type": "execute_result"
    }
   ],
   "source": [
    "survey_results"
   ]
  },
  {
   "cell_type": "markdown",
   "metadata": {},
   "source": [
    "## Generative model\n",
    "\n",
    "1. For each state we generate an $\\vec{\\alpha}$ vector, which defines a Dirichlet distribution over the proportion of votes that go to each of the 3 candidates whenever we do a survey – including the final survey, namely the election itself which we want to predict. The prior over each component of $\\vec{\\alpha}$ is taken as a Cauchy distribution with location 0 and scale 1. Since the components of $\\vec{\\alpha}$ are positive, we actually use the positive half-Cauchy distribution.\n",
    "\n",
    "2. For each survey in a state we generate a probability vector $\\vec{p_i} \\sim \\text{Dirichlet}(\\vec{\\alpha})$ for the probability that a voter selects each of the 3 candidates.\n",
    "\n",
    "3. For each survey, we then generate the number of votes going to each candidate as $\\vec{k_i} \\sim \\text{Multinomial}(\\vec{p_i})$.\n",
    "\n",
    "### Tasks\n",
    "\n",
    "* Use Stan to sample from the posterior distribution over $\\alpha$ and visualize your results. There are 5 states, so you will have 5 posteriors.\n",
    "* The posteriors over $\\alpha$ show a lot of variation between different states. Explain the results you get in terms of the model and the data."
   ]
  },
  {
   "cell_type": "code",
   "execution_count": 53,
   "metadata": {},
   "outputs": [
    {
     "name": "stderr",
     "output_type": "stream",
     "text": [
      "INFO:pystan:COMPILING THE C++ CODE FOR MODEL anon_model_7eb460c5e4aa50933afb38fe70423f4a NOW.\n"
     ]
    }
   ],
   "source": [
    "stan_code = '''\n",
    "\n",
    "data {\n",
    "    int<lower=0> num_survey;    // number of surveys\n",
    "    int<lower=0> num_candidate;   // number of candidates\n",
    "    int<lower=0> survey_results[num_survey, num_candidate];     // results for the candidate\n",
    "}\n",
    "\n",
    "parameters {\n",
    "    vector<lower=0>[num_candidate] alpha; // alpha of the dirichlet dist\n",
    "    simplex[num_candidate] p[num_survey];  // the probability vector for each survey\n",
    "}\n",
    "\n",
    "model {\n",
    "    alpha ~ cauchy(0, 1);\n",
    "    for (i in 1:num_survey) {\n",
    "        p[i] ~ dirichlet(alpha);\n",
    "        survey_results[i] ~ multinomial(p[i]);\n",
    "    }\n",
    "}\n",
    "'''\n",
    "\n",
    "stan_model = pystan.StanModel(model_code=stan_code)"
   ]
  },
  {
   "cell_type": "markdown",
   "metadata": {},
   "source": [
    "### Alabama"
   ]
  },
  {
   "cell_type": "code",
   "execution_count": 71,
   "metadata": {},
   "outputs": [
    {
     "name": "stderr",
     "output_type": "stream",
     "text": [
      "WARNING:pystan:2151 of 4000 iterations ended with a divergence (53.8 %).\n",
      "WARNING:pystan:Try running with adapt_delta larger than 0.8 to remove the divergences.\n"
     ]
    }
   ],
   "source": [
    "stan_data = {\n",
    "    'num_survey': survey_results['Colorado'].shape[0],\n",
    "    'num_candidate': 3,\n",
    "    'survey_results': survey_results['Colorado']}\n",
    "results = stan_model.sampling(data=stan_data)\n",
    "samples = results.extract()\n",
    "# Make a new array with same dimensions as alpha\n",
    "p_predicted1 = np.empty(samples['alpha'].shape)\n",
    "# Generate one p sample for each alpha sample\n",
    "for i in range(samples['alpha'].shape[0]):\n",
    "    p_predicted1[i] = sts.dirichlet(samples['alpha'][i]).rvs()\n"
   ]
  },
  {
   "cell_type": "code",
   "execution_count": 61,
   "metadata": {},
   "outputs": [
    {
     "name": "stdout",
     "output_type": "stream",
     "text": [
      "Republican number of votes is [46.90306099 62.01645036]\n",
      "Democrat number of votes is [60.02612122 82.21576917]\n",
      "Other number of votes is [0.07357466 0.13244697]\n"
     ]
    }
   ],
   "source": [
    "repub=[]\n",
    "demo=[]\n",
    "other=[]\n",
    "repub_prob =[]\n",
    "demo_prob=[]\n",
    "other_prob=[]\n",
    "for i in range(len(samples)):\n",
    "    repub.append(samples['alpha'][i][0])\n",
    "    repub_prob.append(p_predicted1[i][0])\n",
    "    demo.append(samples['alpha'][i][1])\n",
    "    demo_prob.append(p_predicted1[i][1])\n",
    "    other.append(samples['alpha'][i][2])\n",
    "    other_prob.append(p_predicted1[i][2])\n",
    "print(\"Republican number of votes is\", np.percentile(repub, [2.5, 97.5]))\n",
    "print(\"Democrat number of votes is\", np.percentile(demo, [2.5, 97.5]))\n",
    "print(\"Other number of votes is\", np.percentile(other, [2.5, 97.5]))\n"
   ]
  },
  {
   "cell_type": "code",
   "execution_count": 62,
   "metadata": {},
   "outputs": [
    {
     "name": "stdout",
     "output_type": "stream",
     "text": [
      "Republican winning prob is [0.42439101 0.45646207]\n",
      "Democrat winning prob is [0.54353791 0.57539449]\n",
      "Other winning prob is [8.08356372e-10 2.14507859e-04]\n"
     ]
    }
   ],
   "source": [
    "print(\"Republican winning prob is\", np.percentile(repub_prob, [2.5, 97.5]))\n",
    "print(\"Democrat winning prob is\", np.percentile(demo_prob, [2.5, 97.5]))\n",
    "print(\"Other winning prob is\", np.percentile(other_prob, [2.5, 97.5]))\n"
   ]
  },
  {
   "cell_type": "markdown",
   "metadata": {},
   "source": [
    "### Alaska"
   ]
  },
  {
   "cell_type": "code",
   "execution_count": 63,
   "metadata": {},
   "outputs": [
    {
     "name": "stderr",
     "output_type": "stream",
     "text": [
      "WARNING:pystan:782 of 4000 iterations ended with a divergence (19.6 %).\n",
      "WARNING:pystan:Try running with adapt_delta larger than 0.8 to remove the divergences.\n"
     ]
    },
    {
     "name": "stdout",
     "output_type": "stream",
     "text": [
      "Republican number of votes is [ 49.3653437  289.89737979]\n",
      "Democrat number of votes is [ 40.44323676 260.01254356]\n",
      "Other number of votes is [0.18063784 0.30756434]\n",
      "Republican winning prob is [0.53857326 0.55344692]\n",
      "Democrat winning prob is [0.44654892 0.46122014]\n",
      "Other winning prob is [4.16661886e-06 2.06596800e-04]\n"
     ]
    }
   ],
   "source": [
    "stan_data = {\n",
    "    'num_survey': survey_results['Alaska'].shape[0],\n",
    "    'num_candidate': 3,\n",
    "    'survey_results': survey_results['Alaska']}\n",
    "results = stan_model.sampling(data=stan_data)\n",
    "samples = results.extract()\n",
    "# Make a new array with same dimensions as alpha\n",
    "p_predicted1 = np.empty(samples['alpha'].shape)\n",
    "# Generate one p sample for each alpha sample\n",
    "for i in range(samples['alpha'].shape[0]):\n",
    "    p_predicted1[i] = sts.dirichlet(samples['alpha'][i]).rvs()\n",
    "repub=[]\n",
    "demo=[]\n",
    "other=[]\n",
    "repub_prob =[]\n",
    "demo_prob=[]\n",
    "other_prob=[]\n",
    "for i in range(len(samples)):\n",
    "    repub.append(samples['alpha'][i][0])\n",
    "    repub_prob.append(p_predicted1[i][0])\n",
    "    demo.append(samples['alpha'][i][1])\n",
    "    demo_prob.append(p_predicted1[i][1])\n",
    "    other.append(samples['alpha'][i][2])\n",
    "    other_prob.append(p_predicted1[i][2])\n",
    "print(\"Republican number of votes is\", np.percentile(repub, [2.5, 97.5]))\n",
    "print(\"Democrat number of votes is\", np.percentile(demo, [2.5, 97.5]))\n",
    "print(\"Other number of votes is\", np.percentile(other, [2.5, 97.5]))\n",
    "print(\"Republican winning prob is\", np.percentile(repub_prob, [2.5, 97.5]))\n",
    "print(\"Democrat winning prob is\", np.percentile(demo_prob, [2.5, 97.5]))\n",
    "print(\"Other winning prob is\", np.percentile(other_prob, [2.5, 97.5]))\n"
   ]
  },
  {
   "cell_type": "markdown",
   "metadata": {},
   "source": [
    "### Arizona"
   ]
  },
  {
   "cell_type": "code",
   "execution_count": 64,
   "metadata": {},
   "outputs": [
    {
     "name": "stderr",
     "output_type": "stream",
     "text": [
      "WARNING:pystan:1300 of 4000 iterations ended with a divergence (32.5 %).\n",
      "WARNING:pystan:Try running with adapt_delta larger than 0.8 to remove the divergences.\n"
     ]
    },
    {
     "name": "stdout",
     "output_type": "stream",
     "text": [
      "Republican number of votes is [41.04709413 50.77984032]\n",
      "Democrat number of votes is [43.94443769 56.90881446]\n",
      "Other number of votes is [0.14218628 0.20024611]\n",
      "Republican winning prob is [0.4535809  0.51530821]\n",
      "Democrat winning prob is [0.48469126 0.54641868]\n",
      "Other winning prob is [1.51161145e-07 5.35453010e-06]\n"
     ]
    }
   ],
   "source": [
    "stan_data = {\n",
    "    'num_survey': survey_results['Arizona'].shape[0],\n",
    "    'num_candidate': 3,\n",
    "    'survey_results': survey_results['Arizona']}\n",
    "results = stan_model.sampling(data=stan_data)\n",
    "samples = results.extract()\n",
    "# Make a new array with same dimensions as alpha\n",
    "p_predicted1 = np.empty(samples['alpha'].shape)\n",
    "# Generate one p sample for each alpha sample\n",
    "for i in range(samples['alpha'].shape[0]):\n",
    "    p_predicted1[i] = sts.dirichlet(samples['alpha'][i]).rvs()\n",
    "repub=[]\n",
    "demo=[]\n",
    "other=[]\n",
    "repub_prob =[]\n",
    "demo_prob=[]\n",
    "other_prob=[]\n",
    "for i in range(len(samples)):\n",
    "    repub.append(samples['alpha'][i][0])\n",
    "    repub_prob.append(p_predicted1[i][0])\n",
    "    demo.append(samples['alpha'][i][1])\n",
    "    demo_prob.append(p_predicted1[i][1])\n",
    "    other.append(samples['alpha'][i][2])\n",
    "    other_prob.append(p_predicted1[i][2])\n",
    "print(\"Republican number of votes is\", np.percentile(repub, [2.5, 97.5]))\n",
    "print(\"Democrat number of votes is\", np.percentile(demo, [2.5, 97.5]))\n",
    "print(\"Other number of votes is\", np.percentile(other, [2.5, 97.5]))\n",
    "print(\"Republican winning prob is\", np.percentile(repub_prob, [2.5, 97.5]))\n",
    "print(\"Democrat winning prob is\", np.percentile(demo_prob, [2.5, 97.5]))\n",
    "print(\"Other winning prob is\", np.percentile(other_prob, [2.5, 97.5]))"
   ]
  },
  {
   "cell_type": "markdown",
   "metadata": {},
   "source": [
    "### Arkansas"
   ]
  },
  {
   "cell_type": "code",
   "execution_count": 65,
   "metadata": {},
   "outputs": [
    {
     "name": "stderr",
     "output_type": "stream",
     "text": [
      "WARNING:pystan:1087 of 4000 iterations ended with a divergence (27.2 %).\n",
      "WARNING:pystan:Try running with adapt_delta larger than 0.8 to remove the divergences.\n"
     ]
    },
    {
     "name": "stdout",
     "output_type": "stream",
     "text": [
      "Republican number of votes is [ 1.54230714 11.14025471]\n",
      "Democrat number of votes is [1.11411806 5.0578239 ]\n",
      "Other number of votes is [0.0767191  0.18632873]\n",
      "Republican winning prob is [0.37855559 0.93938656]\n",
      "Democrat winning prob is [0.06020069 0.6210189 ]\n",
      "Other winning prob is [6.72010151e-07 7.84294208e-03]\n"
     ]
    }
   ],
   "source": [
    "stan_data = {\n",
    "    'num_survey': survey_results['Arkansas'].shape[0],\n",
    "    'num_candidate': 3,\n",
    "    'survey_results': survey_results['Arkansas']}\n",
    "results = stan_model.sampling(data=stan_data)\n",
    "samples = results.extract()\n",
    "# Make a new array with same dimensions as alpha\n",
    "p_predicted1 = np.empty(samples['alpha'].shape)\n",
    "# Generate one p sample for each alpha sample\n",
    "for i in range(samples['alpha'].shape[0]):\n",
    "    p_predicted1[i] = sts.dirichlet(samples['alpha'][i]).rvs()\n",
    "repub=[]\n",
    "demo=[]\n",
    "other=[]\n",
    "repub_prob =[]\n",
    "demo_prob=[]\n",
    "other_prob=[]\n",
    "for i in range(len(samples)):\n",
    "    repub.append(samples['alpha'][i][0])\n",
    "    repub_prob.append(p_predicted1[i][0])\n",
    "    demo.append(samples['alpha'][i][1])\n",
    "    demo_prob.append(p_predicted1[i][1])\n",
    "    other.append(samples['alpha'][i][2])\n",
    "    other_prob.append(p_predicted1[i][2])\n",
    "print(\"Republican number of votes is\", np.percentile(repub, [2.5, 97.5]))\n",
    "print(\"Democrat number of votes is\", np.percentile(demo, [2.5, 97.5]))\n",
    "print(\"Other number of votes is\", np.percentile(other, [2.5, 97.5]))\n",
    "print(\"Republican winning prob is\", np.percentile(repub_prob, [2.5, 97.5]))\n",
    "print(\"Democrat winning prob is\", np.percentile(demo_prob, [2.5, 97.5]))\n",
    "print(\"Other winning prob is\", np.percentile(other_prob, [2.5, 97.5]))"
   ]
  },
  {
   "cell_type": "markdown",
   "metadata": {},
   "source": [
    "### Colorado"
   ]
  },
  {
   "cell_type": "code",
   "execution_count": 66,
   "metadata": {},
   "outputs": [
    {
     "name": "stderr",
     "output_type": "stream",
     "text": [
      "WARNING:pystan:2222 of 4000 iterations ended with a divergence (55.5 %).\n",
      "WARNING:pystan:Try running with adapt_delta larger than 0.8 to remove the divergences.\n"
     ]
    },
    {
     "name": "stdout",
     "output_type": "stream",
     "text": [
      "Republican number of votes is [43.88453029 78.12249554]\n",
      "Democrat number of votes is [ 57.19108453 105.8206508 ]\n",
      "Other number of votes is [0.07747764 0.18508046]\n",
      "Republican winning prob is [0.33447859 0.43389485]\n",
      "Democrat winning prob is [0.56610437 0.66552138]\n",
      "Other winning prob is [1.89023047e-09 7.76017910e-07]\n"
     ]
    }
   ],
   "source": [
    "stan_data = {\n",
    "    'num_survey': survey_results['Colorado'].shape[0],\n",
    "    'num_candidate': 3,\n",
    "    'survey_results': survey_results['Colorado']}\n",
    "results = stan_model.sampling(data=stan_data)\n",
    "samples = results.extract()\n",
    "# Make a new array with same dimensions as alpha\n",
    "p_predicted1 = np.empty(samples['alpha'].shape)\n",
    "# Generate one p sample for each alpha sample\n",
    "for i in range(samples['alpha'].shape[0]):\n",
    "    p_predicted1[i] = sts.dirichlet(samples['alpha'][i]).rvs()\n",
    "repub=[]\n",
    "demo=[]\n",
    "other=[]\n",
    "repub_prob =[]\n",
    "demo_prob=[]\n",
    "other_prob=[]\n",
    "for i in range(len(samples)):\n",
    "    repub.append(samples['alpha'][i][0])\n",
    "    repub_prob.append(p_predicted1[i][0])\n",
    "    demo.append(samples['alpha'][i][1])\n",
    "    demo_prob.append(p_predicted1[i][1])\n",
    "    other.append(samples['alpha'][i][2])\n",
    "    other_prob.append(p_predicted1[i][2])\n",
    "print(\"Republican number of votes is\", np.percentile(repub, [2.5, 97.5]))\n",
    "print(\"Democrat number of votes is\", np.percentile(demo, [2.5, 97.5]))\n",
    "print(\"Other number of votes is\", np.percentile(other, [2.5, 97.5]))\n",
    "print(\"Republican winning prob is\", np.percentile(repub_prob, [2.5, 97.5]))\n",
    "print(\"Democrat winning prob is\", np.percentile(demo_prob, [2.5, 97.5]))\n",
    "print(\"Other winning prob is\", np.percentile(other_prob, [2.5, 97.5]))"
   ]
  },
  {
   "cell_type": "markdown",
   "metadata": {},
   "source": [
    "### Overall winner"
   ]
  },
  {
   "cell_type": "code",
   "execution_count": 80,
   "metadata": {},
   "outputs": [
    {
     "name": "stderr",
     "output_type": "stream",
     "text": [
      "WARNING:pystan:1368 of 4000 iterations ended with a divergence (34.2 %).\n",
      "WARNING:pystan:Try running with adapt_delta larger than 0.8 to remove the divergences.\n",
      "WARNING:pystan:789 of 4000 iterations ended with a divergence (19.7 %).\n",
      "WARNING:pystan:Try running with adapt_delta larger than 0.8 to remove the divergences.\n",
      "WARNING:pystan:1408 of 4000 iterations ended with a divergence (35.2 %).\n",
      "WARNING:pystan:Try running with adapt_delta larger than 0.8 to remove the divergences.\n",
      "WARNING:pystan:1028 of 4000 iterations ended with a divergence (25.7 %).\n",
      "WARNING:pystan:Try running with adapt_delta larger than 0.8 to remove the divergences.\n",
      "WARNING:pystan:2180 of 4000 iterations ended with a divergence (54.5 %).\n",
      "WARNING:pystan:Try running with adapt_delta larger than 0.8 to remove the divergences.\n"
     ]
    }
   ],
   "source": [
    "overall_results = {}\n",
    "#get results from all states\n",
    "for i in states:\n",
    "    stan_data = {\n",
    "        'num_survey': survey_results[i].shape[0],\n",
    "        'num_candidate': 3,\n",
    "        'survey_results': survey_results[i]}\n",
    "    overall_results[i] = stan_model.sampling(data=stan_data)\n",
    "samples = {i: overall_results[i].extract() for i in states}\n",
    "votes = np.zeros((4000, 4))\n",
    "winner = np.zeros(4000)\n",
    "for i in range(4000):\n",
    "    for j in states:\n",
    "        alpha = samples[j]['alpha'][i]\n",
    "        p_predict_overall = sts.dirichlet.rvs(alpha)\n",
    "        win = p_predict_overall.argmax() #max p = winner\n",
    "        votes[i, win] += electoral_votes[j]\n",
    "    winner[i] = votes[i].argmax()\n"
   ]
  },
  {
   "cell_type": "code",
   "execution_count": 89,
   "metadata": {},
   "outputs": [
    {
     "data": {
      "text/plain": [
       "array([1., 1., 1., ..., 1., 0., 0.])"
      ]
     },
     "execution_count": 89,
     "metadata": {},
     "output_type": "execute_result"
    }
   ],
   "source": [
    "winner"
   ]
  },
  {
   "cell_type": "code",
   "execution_count": 86,
   "metadata": {},
   "outputs": [
    {
     "data": {
      "image/png": "[encoded data removed]",
      "text/plain": [
       "<Figure size 432x288 with 1 Axes>"
      ]
     },
     "metadata": {
      "needs_background": "light"
     },
     "output_type": "display_data"
    }
   ],
   "source": [
    "plt.hist(winner, density=True)\n",
    "plt.show() #0 pertains to republican, 1 pertains to democrat, 2 pertains to Other - we see there's no \"other here\""
   ]
  },
  {
   "cell_type": "code",
   "execution_count": 90,
   "metadata": {},
   "outputs": [
    {
     "name": "stdout",
     "output_type": "stream",
     "text": [
      "Probability of republican winning is 0.38449999999999995\n",
      "Probability of democratic winning is 0.6155\n"
     ]
    }
   ],
   "source": [
    "#since there is no \"Other\"\n",
    "print(\"Probability of republican winning is\", 1-sum(winner)/len(winner))\n",
    "print(\"Probability of democratic winning is\", sum(winner)/len(winner))"
   ]
  },
  {
   "cell_type": "code",
   "execution_count": null,
   "metadata": {},
   "outputs": [],
   "source": []
  }
 ],
 "metadata": {
  "kernelspec": {
   "display_name": "Python 3",
   "language": "python",
   "name": "python3"
  },
  "language_info": {
   "codemirror_mode": {
    "name": "ipython",
    "version": 3
   },
   "file_extension": ".py",
   "mimetype": "text/x-python",
   "name": "python",
   "nbconvert_exporter": "python",
   "pygments_lexer": "ipython3",
   "version": "3.8.3"
  }
 },
 "nbformat": 4,
 "nbformat_minor": 4
}
